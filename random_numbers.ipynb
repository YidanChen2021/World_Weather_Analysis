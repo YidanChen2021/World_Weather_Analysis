{
 "cells": [
  {
   "cell_type": "code",
   "execution_count": 1,
   "id": "d79bdf13",
   "metadata": {},
   "outputs": [],
   "source": [
    "# Import the random module\n",
    "import random"
   ]
  },
  {
   "cell_type": "code",
   "execution_count": 3,
   "id": "87f62622",
   "metadata": {},
   "outputs": [
    {
     "data": {
      "text/plain": [
       "-67"
      ]
     },
     "execution_count": 3,
     "metadata": {},
     "output_type": "execute_result"
    }
   ],
   "source": [
    "random.randint(-90,90)"
   ]
  },
  {
   "cell_type": "code",
   "execution_count": 4,
   "id": "a7c51e7c",
   "metadata": {},
   "outputs": [
    {
     "data": {
      "text/plain": [
       "0.4502187596857399"
      ]
     },
     "execution_count": 4,
     "metadata": {},
     "output_type": "execute_result"
    }
   ],
   "source": [
    "random.random()"
   ]
  },
  {
   "cell_type": "code",
   "execution_count": 5,
   "id": "d752d186",
   "metadata": {},
   "outputs": [
    {
     "data": {
      "text/plain": [
       "58.0434933117318"
      ]
     },
     "execution_count": 5,
     "metadata": {},
     "output_type": "execute_result"
    }
   ],
   "source": [
    "random_number = random.randint(-90, 89) + random.random()\n",
    "random_number"
   ]
  },
  {
   "cell_type": "code",
   "execution_count": 8,
   "id": "e65b69bc",
   "metadata": {},
   "outputs": [],
   "source": [
    "x = 1\n",
    "latitudes = []\n",
    "while x < 11:\n",
    "    random_lat = random.randint(-90,89) + random.random()\n",
    "    latitudes.append(random_lat)\n",
    "    x += 1"
   ]
  },
  {
   "cell_type": "code",
   "execution_count": 9,
   "id": "289ea64c",
   "metadata": {},
   "outputs": [
    {
     "data": {
      "text/plain": [
       "67"
      ]
     },
     "execution_count": 9,
     "metadata": {},
     "output_type": "execute_result"
    }
   ],
   "source": [
    "random.randrange(-90,90,step=1)"
   ]
  },
  {
   "cell_type": "code",
   "execution_count": 10,
   "id": "1e90dc5c",
   "metadata": {},
   "outputs": [
    {
     "data": {
      "text/plain": [
       "-21"
      ]
     },
     "execution_count": 10,
     "metadata": {},
     "output_type": "execute_result"
    }
   ],
   "source": [
    "random.randrange(-90,90,step = 3)"
   ]
  },
  {
   "cell_type": "code",
   "execution_count": 11,
   "id": "efeddd6f",
   "metadata": {},
   "outputs": [
    {
     "data": {
      "text/plain": [
       "47.843162082144886"
      ]
     },
     "execution_count": 11,
     "metadata": {},
     "output_type": "execute_result"
    }
   ],
   "source": [
    "random.uniform(-90,90)\n"
   ]
  },
  {
   "cell_type": "code",
   "execution_count": 12,
   "id": "092a7de4",
   "metadata": {},
   "outputs": [],
   "source": [
    "# Import the Numpy module.\n",
    "import numpy as np"
   ]
  },
  {
   "cell_type": "code",
   "execution_count": 13,
   "id": "d9b36577",
   "metadata": {},
   "outputs": [
    {
     "data": {
      "text/plain": [
       "20.41436086296669"
      ]
     },
     "execution_count": 13,
     "metadata": {},
     "output_type": "execute_result"
    }
   ],
   "source": [
    "np.random.uniform(-90.000, 90.000)\n"
   ]
  },
  {
   "cell_type": "code",
   "execution_count": 14,
   "id": "260545e6",
   "metadata": {},
   "outputs": [
    {
     "data": {
      "text/plain": [
       "array([ 85.24266732,  34.17297922,  53.28410377, -34.91467944,\n",
       "       -79.48143296,  13.08714407,  28.33366123, -71.95001225,\n",
       "        40.20330861, -38.9437516 , -67.85145541,  14.33733542,\n",
       "        57.41221033,  23.07261498,  -7.19499646,  72.66421527,\n",
       "        63.32040912, -34.74374388, -24.07101415,  88.18493335,\n",
       "       -89.1780858 , -87.47460938, -53.72630877,  44.2683898 ,\n",
       "        16.29288308,  40.06082764, -76.9195844 ,  60.11046227,\n",
       "         8.31199613,   2.17630689,  47.12641933, -39.04027818,\n",
       "        65.65709361, -66.3652472 , -31.02280854,  66.64622277,\n",
       "       -21.15370649, -65.98673813,   6.69885924, -18.60314088,\n",
       "       -63.15320364,  47.93383139,  75.02774369,  89.98137006,\n",
       "       -26.51943105, -86.18221952,  22.19286529, -35.03638203,\n",
       "       -41.04006151,  21.23972678])"
      ]
     },
     "execution_count": 14,
     "metadata": {},
     "output_type": "execute_result"
    }
   ],
   "source": [
    "np.random.uniform(-90.000, 90.000, size=50)"
   ]
  },
  {
   "cell_type": "code",
   "execution_count": 15,
   "id": "709e68bb",
   "metadata": {},
   "outputs": [],
   "source": [
    "# Import timeit.\n",
    "import timeit"
   ]
  },
  {
   "cell_type": "code",
   "execution_count": 17,
   "id": "b1bcc3c8",
   "metadata": {},
   "outputs": [
    {
     "name": "stdout",
     "output_type": "stream",
     "text": [
      "17.8 µs ± 559 ns per loop (mean ± std. dev. of 7 runs, 100000 loops each)\n"
     ]
    }
   ],
   "source": [
    "%timeit np.random.uniform(-90.000, 90.000, size=1500)"
   ]
  },
  {
   "cell_type": "code",
   "execution_count": 18,
   "id": "845f2fce",
   "metadata": {},
   "outputs": [
    {
     "name": "stdout",
     "output_type": "stream",
     "text": [
      "2.49 ms ± 159 µs per loop (mean ± std. dev. of 7 runs, 100 loops each)\n"
     ]
    }
   ],
   "source": [
    "def latitudes(size):\n",
    "    latitudes = []\n",
    "    x=0\n",
    "    while x< (size):\n",
    "        random_lat = random.randint(-90,90)+random.random()\n",
    "        latitudes.append(random_lat)\n",
    "        x += 1\n",
    "    return latitudes\n",
    "# Call the function with 1500\n",
    "%timeit latitudes(1500)"
   ]
  },
  {
   "cell_type": "code",
   "execution_count": null,
   "id": "d8cfd5ee",
   "metadata": {},
   "outputs": [],
   "source": []
  }
 ],
 "metadata": {
  "kernelspec": {
   "display_name": "pythondata",
   "language": "python",
   "name": "pythondata"
  },
  "language_info": {
   "codemirror_mode": {
    "name": "ipython",
    "version": 3
   },
   "file_extension": ".py",
   "mimetype": "text/x-python",
   "name": "python",
   "nbconvert_exporter": "python",
   "pygments_lexer": "ipython3",
   "version": "3.7.11"
  }
 },
 "nbformat": 4,
 "nbformat_minor": 5
}
